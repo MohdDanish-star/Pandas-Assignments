{
 "cells": [
  {
   "cell_type": "code",
   "execution_count": 2,
   "id": "61015b9d-bde0-44f3-abba-14ca5eda3a76",
   "metadata": {},
   "outputs": [],
   "source": [
    "import pandas as pd"
   ]
  },
  {
   "cell_type": "code",
   "execution_count": 3,
   "id": "d187f513-aa54-4985-9a64-51006d9f47d1",
   "metadata": {},
   "outputs": [],
   "source": [
    "course_name = ['Data Science', 'Machine Learning', 'Big Data', 'Data Engineer']\n",
    "duration = [2,3,6,4]\n",
    "df = pd.DataFrame(data = {'course_name' : course_name, 'duration' : duration})"
   ]
  },
  {
   "cell_type": "markdown",
   "id": "588083be-5404-4ecd-b8e0-c5cd0ccbeed2",
   "metadata": {},
   "source": [
    "Q1. Write a code to print the data present in the second row of the dataframe, df."
   ]
  },
  {
   "cell_type": "code",
   "execution_count": 4,
   "id": "84acbc59-4492-45fa-9e7d-ac854b15518c",
   "metadata": {},
   "outputs": [
    {
     "data": {
      "text/plain": [
       "course_name    Machine Learning\n",
       "duration                      3\n",
       "Name: 1, dtype: object"
      ]
     },
     "execution_count": 4,
     "metadata": {},
     "output_type": "execute_result"
    }
   ],
   "source": [
    "df.iloc[1]"
   ]
  },
  {
   "cell_type": "markdown",
   "id": "0d9d53c3-9a32-4b53-b9ee-5293f4af7f30",
   "metadata": {},
   "source": [
    "Q2. What is the difference between the functions loc and iloc in pandas.DataFrame?"
   ]
  },
  {
   "cell_type": "markdown",
   "id": "221dd9f2-031a-4a5c-a4e1-340a74f04dbd",
   "metadata": {},
   "source": [
    "Answer:- Both loc and iloc are used to locate the specific data in the dataframe. The main difference between loc and iloc is that loc uses row's and columns's visible indexes to locate the data. It means if we have given named indexes to our dataframe. we can still locate the prticular data with our named indexes.\n",
    "\n",
    "While iloc works on the intiger (default) indexes to locate the data from the dataframe"
   ]
  },
  {
   "cell_type": "markdown",
   "id": "d1149c54-19a4-45e8-9e57-669274db67fa",
   "metadata": {},
   "source": [
    "Q3. Reindex the given dataframe using a variable, reindex = [3,0,1,2] and store it in the variable, new_df\n",
    "then find the output for both new_df.loc[2] and new_df.iloc[2]."
   ]
  },
  {
   "cell_type": "code",
   "execution_count": 5,
   "id": "4bba18c3-e5ba-4f4f-89a8-9cdea7c19a38",
   "metadata": {},
   "outputs": [
    {
     "data": {
      "text/plain": [
       "course_name    Big Data\n",
       "duration              6\n",
       "Name: 2, dtype: object"
      ]
     },
     "execution_count": 5,
     "metadata": {},
     "output_type": "execute_result"
    }
   ],
   "source": [
    "reindex = [3,0,1,2]\n",
    "new_df = df.reindex(reindex)\n",
    "new_df.loc[2]"
   ]
  },
  {
   "cell_type": "code",
   "execution_count": 6,
   "id": "0d4a7e0c-f92c-49f6-98e6-fd54f760d3d3",
   "metadata": {},
   "outputs": [
    {
     "data": {
      "text/plain": [
       "course_name    Machine Learning\n",
       "duration                      3\n",
       "Name: 1, dtype: object"
      ]
     },
     "execution_count": 6,
     "metadata": {},
     "output_type": "execute_result"
    }
   ],
   "source": [
    "new_df.iloc[2]"
   ]
  },
  {
   "cell_type": "code",
   "execution_count": 7,
   "id": "a7980e90-a650-4104-873b-fdea61c9a0e8",
   "metadata": {},
   "outputs": [
    {
     "data": {
      "text/html": [
       "<div>\n",
       "<style scoped>\n",
       "    .dataframe tbody tr th:only-of-type {\n",
       "        vertical-align: middle;\n",
       "    }\n",
       "\n",
       "    .dataframe tbody tr th {\n",
       "        vertical-align: top;\n",
       "    }\n",
       "\n",
       "    .dataframe thead th {\n",
       "        text-align: right;\n",
       "    }\n",
       "</style>\n",
       "<table border=\"1\" class=\"dataframe\">\n",
       "  <thead>\n",
       "    <tr style=\"text-align: right;\">\n",
       "      <th></th>\n",
       "      <th>course_name</th>\n",
       "      <th>duration</th>\n",
       "    </tr>\n",
       "  </thead>\n",
       "  <tbody>\n",
       "    <tr>\n",
       "      <th>3</th>\n",
       "      <td>Data Engineer</td>\n",
       "      <td>4</td>\n",
       "    </tr>\n",
       "    <tr>\n",
       "      <th>0</th>\n",
       "      <td>Data Science</td>\n",
       "      <td>2</td>\n",
       "    </tr>\n",
       "    <tr>\n",
       "      <th>1</th>\n",
       "      <td>Machine Learning</td>\n",
       "      <td>3</td>\n",
       "    </tr>\n",
       "    <tr>\n",
       "      <th>2</th>\n",
       "      <td>Big Data</td>\n",
       "      <td>6</td>\n",
       "    </tr>\n",
       "  </tbody>\n",
       "</table>\n",
       "</div>"
      ],
      "text/plain": [
       "        course_name  duration\n",
       "3     Data Engineer         4\n",
       "0      Data Science         2\n",
       "1  Machine Learning         3\n",
       "2          Big Data         6"
      ]
     },
     "execution_count": 7,
     "metadata": {},
     "output_type": "execute_result"
    }
   ],
   "source": [
    "new_df"
   ]
  },
  {
   "cell_type": "markdown",
   "id": "ed1f9dd6-7afc-4c1f-84de-df6d615dd448",
   "metadata": {},
   "source": [
    "Answer:- Both the code command gives different result. As I have already stated above that loc works on visible indexes, so in the above example loc retrive the data from the row which has visible row lable as 2\n",
    "\n",
    "While iloc works on intiger or default indexes. that's why it returns the data for Machine Learning course because eventhough it has visible index as 1 but default index is 2"
   ]
  },
  {
   "cell_type": "code",
   "execution_count": 8,
   "id": "951b4572-377b-4cb1-a7ea-da61d05096b2",
   "metadata": {},
   "outputs": [],
   "source": [
    "import pandas as pd\n",
    "import numpy as np\n",
    "columns = ['column_1', 'column_2', 'column_3', 'column_4', 'column_5', 'column_6']\n",
    "indices = [1,2,3,4,5,6]\n",
    "#Creating a dataframe:\n",
    "df1 = pd.DataFrame(np.random.rand(6,6), columns = columns, index = indices)"
   ]
  },
  {
   "cell_type": "code",
   "execution_count": 9,
   "id": "dccd1c63-7443-4880-b936-0b47e0a558d3",
   "metadata": {},
   "outputs": [
    {
     "data": {
      "text/html": [
       "<div>\n",
       "<style scoped>\n",
       "    .dataframe tbody tr th:only-of-type {\n",
       "        vertical-align: middle;\n",
       "    }\n",
       "\n",
       "    .dataframe tbody tr th {\n",
       "        vertical-align: top;\n",
       "    }\n",
       "\n",
       "    .dataframe thead th {\n",
       "        text-align: right;\n",
       "    }\n",
       "</style>\n",
       "<table border=\"1\" class=\"dataframe\">\n",
       "  <thead>\n",
       "    <tr style=\"text-align: right;\">\n",
       "      <th></th>\n",
       "      <th>column_1</th>\n",
       "      <th>column_2</th>\n",
       "      <th>column_3</th>\n",
       "      <th>column_4</th>\n",
       "      <th>column_5</th>\n",
       "      <th>column_6</th>\n",
       "    </tr>\n",
       "  </thead>\n",
       "  <tbody>\n",
       "    <tr>\n",
       "      <th>1</th>\n",
       "      <td>0.016964</td>\n",
       "      <td>0.657215</td>\n",
       "      <td>0.701988</td>\n",
       "      <td>0.513290</td>\n",
       "      <td>0.733693</td>\n",
       "      <td>0.639907</td>\n",
       "    </tr>\n",
       "    <tr>\n",
       "      <th>2</th>\n",
       "      <td>0.957176</td>\n",
       "      <td>0.697370</td>\n",
       "      <td>0.809606</td>\n",
       "      <td>0.074951</td>\n",
       "      <td>0.751916</td>\n",
       "      <td>0.539216</td>\n",
       "    </tr>\n",
       "    <tr>\n",
       "      <th>3</th>\n",
       "      <td>0.511497</td>\n",
       "      <td>0.152892</td>\n",
       "      <td>0.539652</td>\n",
       "      <td>0.812945</td>\n",
       "      <td>0.794424</td>\n",
       "      <td>0.005014</td>\n",
       "    </tr>\n",
       "    <tr>\n",
       "      <th>4</th>\n",
       "      <td>0.844156</td>\n",
       "      <td>0.146015</td>\n",
       "      <td>0.912205</td>\n",
       "      <td>0.209776</td>\n",
       "      <td>0.429598</td>\n",
       "      <td>0.108570</td>\n",
       "    </tr>\n",
       "    <tr>\n",
       "      <th>5</th>\n",
       "      <td>0.147499</td>\n",
       "      <td>0.011880</td>\n",
       "      <td>0.076883</td>\n",
       "      <td>0.179746</td>\n",
       "      <td>0.468629</td>\n",
       "      <td>0.764001</td>\n",
       "    </tr>\n",
       "    <tr>\n",
       "      <th>6</th>\n",
       "      <td>0.518931</td>\n",
       "      <td>0.014461</td>\n",
       "      <td>0.027245</td>\n",
       "      <td>0.963591</td>\n",
       "      <td>0.387482</td>\n",
       "      <td>0.773872</td>\n",
       "    </tr>\n",
       "  </tbody>\n",
       "</table>\n",
       "</div>"
      ],
      "text/plain": [
       "   column_1  column_2  column_3  column_4  column_5  column_6\n",
       "1  0.016964  0.657215  0.701988  0.513290  0.733693  0.639907\n",
       "2  0.957176  0.697370  0.809606  0.074951  0.751916  0.539216\n",
       "3  0.511497  0.152892  0.539652  0.812945  0.794424  0.005014\n",
       "4  0.844156  0.146015  0.912205  0.209776  0.429598  0.108570\n",
       "5  0.147499  0.011880  0.076883  0.179746  0.468629  0.764001\n",
       "6  0.518931  0.014461  0.027245  0.963591  0.387482  0.773872"
      ]
     },
     "execution_count": 9,
     "metadata": {},
     "output_type": "execute_result"
    }
   ],
   "source": [
    "df1"
   ]
  },
  {
   "cell_type": "markdown",
   "id": "2c3f483d-e942-4645-8b33-b26399c96720",
   "metadata": {},
   "source": [
    "Q4. Write a code to find the following statistical measurements for the above dataframe df1:\n",
    "(i) mean of each and every column present in the dataframe.\n",
    "(ii) standard deviation of column, ‘column_2’"
   ]
  },
  {
   "cell_type": "code",
   "execution_count": 10,
   "id": "54888e83-2fa2-40d2-a831-d717e439f105",
   "metadata": {},
   "outputs": [
    {
     "data": {
      "text/plain": [
       "column_1    0.499371\n",
       "column_2    0.279972\n",
       "column_3    0.511263\n",
       "column_4    0.459050\n",
       "column_5    0.594290\n",
       "column_6    0.471763\n",
       "dtype: float64"
      ]
     },
     "execution_count": 10,
     "metadata": {},
     "output_type": "execute_result"
    }
   ],
   "source": [
    "df1.mean()"
   ]
  },
  {
   "cell_type": "code",
   "execution_count": 11,
   "id": "ddecc711-c8b1-41a8-9eae-eaf74b2840fb",
   "metadata": {},
   "outputs": [
    {
     "data": {
      "text/plain": [
       "0.3140052943175331"
      ]
     },
     "execution_count": 11,
     "metadata": {},
     "output_type": "execute_result"
    }
   ],
   "source": [
    "df1.loc[:,'column_2'].std()"
   ]
  },
  {
   "cell_type": "markdown",
   "id": "9587a1b5-3609-47b5-8be5-80fae16af446",
   "metadata": {},
   "source": [
    "Q5. Replace the data present in the second row of column, ‘column_2’ by a string variable then find the\n",
    "mean of column, column_2.\n",
    "If you are getting errors in executing it then explain why."
   ]
  },
  {
   "cell_type": "code",
   "execution_count": 12,
   "id": "3a56e777-8fe7-4c4f-b232-fa77007c76be",
   "metadata": {},
   "outputs": [],
   "source": [
    "df1.loc[2,'column_2'] = 'Danish'"
   ]
  },
  {
   "cell_type": "markdown",
   "id": "8e09318d-62af-417c-8108-b14d0f1d308c",
   "metadata": {},
   "source": [
    "Answer:- We will definately get the error while executing the mean value of the column. Now, the reason for this is that we have set the 2nd row's value as a string. therefor the data type of the column has now changed from float to object. We can get the mean of numeric columns and after adding string value in column two, the data type has changed to object and that's why we will get an error while calculating mean or any other numeric measures becaue string values can not be measured"
   ]
  },
  {
   "cell_type": "markdown",
   "id": "ea51e7de-f015-44e3-82e0-a5d52ad929be",
   "metadata": {},
   "source": [
    "Q6. What do you understand about the windows function in pandas and list the types of windows\n",
    "functions?"
   ]
  },
  {
   "cell_type": "markdown",
   "id": "23032d85-2431-48e0-93e0-d79b6e8cb2ab",
   "metadata": {},
   "source": [
    "Answer:- In Pandas, Window function helps us to execute more complex xomputing on the subset of the dataframe. Through the window function we can apply a specific calculations on the consecutive number of rows. Window is an argument of the rolling() function. When we difine size of the window it will roll over a calculations on the specified consecutive number of rows.\n",
    "\n",
    "The types of the window function are:- rolling(window=2), rolling.sum(), rolling.mean(), rolling.max(), rolling.min(), etc."
   ]
  },
  {
   "cell_type": "markdown",
   "id": "120845c4-6cfb-4361-a173-6027b16acbad",
   "metadata": {},
   "source": [
    "Q7. Write a code to print only the current month and year at the time of answering this question.\n",
    "[Hint: Use pandas.datetime function]"
   ]
  },
  {
   "cell_type": "code",
   "execution_count": 24,
   "id": "76721ba0-79f6-4aae-9104-47e19b5577d1",
   "metadata": {},
   "outputs": [
    {
     "name": "stdout",
     "output_type": "stream",
     "text": [
      "The current month is :  July\n",
      "The current year is : 2023\n"
     ]
    }
   ],
   "source": [
    "current = pd.Timestamp.now()\n",
    "month = current.month_name()\n",
    "year = current.year\n",
    "\n",
    "print('The current month is : ',month)\n",
    "print('The current year is :', year)"
   ]
  },
  {
   "cell_type": "markdown",
   "id": "d120becc-af7b-4999-9338-eb80586da8ab",
   "metadata": {},
   "source": [
    "Q8. Write a Python program that takes in two dates as input (in the format YYYY-MM-DD) and\n",
    "calculates the difference between them in days, hours, and minutes using Pandas time delta. The\n",
    "program should prompt the user to enter the dates and display the result."
   ]
  },
  {
   "cell_type": "code",
   "execution_count": 39,
   "id": "bce5d660-fc6c-4227-a686-759537b92343",
   "metadata": {},
   "outputs": [
    {
     "name": "stdin",
     "output_type": "stream",
     "text": [
      "Enter 1st Date in (YYYY-MM-DD) format 2023-09-22\n",
      "Enter 2nd Date in (YYYY-MM-DD) format 2023-12-29\n"
     ]
    },
    {
     "name": "stdout",
     "output_type": "stream",
     "text": [
      "Days Difference in Date is:  98 Days\n",
      "Hours Difference in Date is:  0 Hours\n",
      "Minutes Difference in Date is:  0 Minutes\n"
     ]
    }
   ],
   "source": [
    "date1 = input(\"Enter 1st Date in (YYYY-MM-DD) format\")\n",
    "date2 = input(\"Enter 2nd Date in (YYYY-MM-DD) format\")\n",
    "first_Date = pd.Timestamp(date1)\n",
    "second_Date = pd.Timestamp(date2)\n",
    "\n",
    "hours = updated_date.components.hours\n",
    "minutes = updated_date.components.minutes\n",
    "\n",
    "updated_date = second_Date - first_Date\n",
    "print('Days Difference in Date is: ',updated_date.days,\"Days\")\n",
    "print('Hours Difference in Date is: ',hours , \"Hours\")\n",
    "print('Minutes Difference in Date is: ',minutes,\"Minutes\")"
   ]
  },
  {
   "cell_type": "markdown",
   "id": "0b502a15-bdae-4ec1-b97e-b9f40edfbd37",
   "metadata": {},
   "source": [
    "Q9. Write a Python program that reads a CSV file containing categorical data and converts a specified\n",
    "column to a categorical data type. The program should prompt the user to enter the file path, column\n",
    "name, and category order, and then display the sorted data."
   ]
  },
  {
   "cell_type": "code",
   "execution_count": 187,
   "id": "534d3bf7-b058-4316-8fa7-9a1eb92bb09b",
   "metadata": {},
   "outputs": [
    {
     "name": "stdin",
     "output_type": "stream",
     "text": [
      "Enter the file path (including file name and extension):  https://raw.githubusercontent.com/datasciencedojo/datasets/master/titanic.csv\n",
      "Enter the column name to convert to categorical data type:  Sex\n",
      "Enter the desired category order (comma-separated values):  Ordered\n"
     ]
    },
    {
     "name": "stdout",
     "output_type": "stream",
     "text": [
      "     PassengerId  Survived  Pclass  \\\n",
      "0              1         0       3   \n",
      "1              2         1       1   \n",
      "2              3         1       3   \n",
      "3              4         1       1   \n",
      "4              5         0       3   \n",
      "..           ...       ...     ...   \n",
      "886          887         0       2   \n",
      "887          888         1       1   \n",
      "888          889         0       3   \n",
      "889          890         1       1   \n",
      "890          891         0       3   \n",
      "\n",
      "                                                  Name  Sex   Age  SibSp  \\\n",
      "0                              Braund, Mr. Owen Harris  NaN  22.0      1   \n",
      "1    Cumings, Mrs. John Bradley (Florence Briggs Th...  NaN  38.0      1   \n",
      "2                               Heikkinen, Miss. Laina  NaN  26.0      0   \n",
      "3         Futrelle, Mrs. Jacques Heath (Lily May Peel)  NaN  35.0      1   \n",
      "4                             Allen, Mr. William Henry  NaN  35.0      0   \n",
      "..                                                 ...  ...   ...    ...   \n",
      "886                              Montvila, Rev. Juozas  NaN  27.0      0   \n",
      "887                       Graham, Miss. Margaret Edith  NaN  19.0      0   \n",
      "888           Johnston, Miss. Catherine Helen \"Carrie\"  NaN   NaN      1   \n",
      "889                              Behr, Mr. Karl Howell  NaN  26.0      0   \n",
      "890                                Dooley, Mr. Patrick  NaN  32.0      0   \n",
      "\n",
      "     Parch            Ticket     Fare Cabin Embarked  \n",
      "0        0         A/5 21171   7.2500   NaN        S  \n",
      "1        0          PC 17599  71.2833   C85        C  \n",
      "2        0  STON/O2. 3101282   7.9250   NaN        S  \n",
      "3        0            113803  53.1000  C123        S  \n",
      "4        0            373450   8.0500   NaN        S  \n",
      "..     ...               ...      ...   ...      ...  \n",
      "886      0            211536  13.0000   NaN        S  \n",
      "887      0            112053  30.0000   B42        S  \n",
      "888      2        W./C. 6607  23.4500   NaN        S  \n",
      "889      0            111369  30.0000  C148        C  \n",
      "890      0            370376   7.7500   NaN        Q  \n",
      "\n",
      "[891 rows x 12 columns]\n"
     ]
    }
   ],
   "source": [
    "import pandas as pd\n",
    "\n",
    "\n",
    "file_path = input(\"Enter the file path (including file name and extension): \")\n",
    "\n",
    "\n",
    "data = pd.read_csv(file_path)\n",
    "\n",
    "\n",
    "column_name = input(\"Enter the column name to convert to categorical data type: \")\n",
    "category_order = input(\"Enter the desired category order (comma-separated values): \").split(\",\")\n",
    "\n",
    "\n",
    "data[column_name] = pd.Categorical(data[column_name], categories=category_order, ordered=True)\n",
    "\n",
    "\n",
    "sorted_data = data.sort_values(by=[column_name])\n",
    "\n",
    "\n",
    "print(sorted_data)\n"
   ]
  },
  {
   "cell_type": "code",
   "execution_count": null,
   "id": "64befaf7-d256-4b4f-a111-837f2593df5a",
   "metadata": {},
   "outputs": [],
   "source": [
    "path = input()\n",
    "data = pd.read_csv(path)\n",
    "stats =  data.describe()\n",
    "    \n",
    "\n",
    "print('You can see first initial rows of your data below')\n",
    "task = int(input(\"'Please tell me what you want to do with your data(kindly select the subsequent number against each task). [statistics : 1 Categorised data : 2 Filter data : 3 Add new column 4 show charts : 5\"))\n",
    "\n",
    "if task == 1:\n",
    "    print('Here is the statistics of the data')\n",
    "stats\n",
    "\n",
    "if task == 2:\n",
    "    ask = int(input('Tell me which column to categorised based on its index number (1,2,3..n)'))\n",
    "if ask == 1:\n",
    "    print(pd.Categorical(data['PassengerId']))\n",
    "elif ask == 2:\n",
    "    print(pd.Categorical(data['Survived']))\n",
    "elif ask == 3:\n",
    "    print(pd.Categorical(data['Pclass']))\n",
    "elif ask == 4:\n",
    "    print(pd.Categorical(data['Name']))\n",
    "elif ask == 5:\n",
    "    print(pd.Categorical(data['Sex']))\n",
    "elif ask == 6:\n",
    "    print(pd.Categorical(data['Age']))\n",
    "elif ask == 7:\n",
    "    print(pd.Categorical(data['Fare']))\n",
    "\n",
    "    \n",
    "\n",
    "\n",
    "    \n",
    "\n"
   ]
  },
  {
   "cell_type": "markdown",
   "id": "94851107-c891-41a2-a8c9-097fe4933ec1",
   "metadata": {},
   "source": [
    "Q10. Write a Python program that reads a CSV file containing sales data for different products and\n",
    "visualizes the data using a stacked bar chart to show the sales of each product category over time. The\n",
    "program should prompt the user to enter the file path and display the chart."
   ]
  },
  {
   "cell_type": "code",
   "execution_count": 87,
   "id": "460133d4-0817-44aa-b4eb-a713d48f6c84",
   "metadata": {},
   "outputs": [
    {
     "name": "stdin",
     "output_type": "stream",
     "text": [
      "Please enter the complete file name/path here Sales_Data\n"
     ]
    },
    {
     "data": {
      "text/plain": [
       "<AxesSubplot: xlabel='Month'>"
      ]
     },
     "execution_count": 87,
     "metadata": {},
     "output_type": "execute_result"
    },
    {
     "data": {
      "image/png": "[encoded data removed]",
      "text/plain": [
       "<Figure size 640x480 with 1 Axes>"
      ]
     },
     "metadata": {},
     "output_type": "display_data"
    }
   ],
   "source": [
    "import pandas as pd\n",
    "data = {'Month': ['jan','Feb','Mar','Apr','May','Jun','Jul','Aug','Sep','Oct','Nov','Dec'],\n",
    "        'Product':['Samsung','Apple','Xiaomi','Apple','Apple','Samsung','Xiaomi','Samsung','Apple','Xiaomi','Samsung','Apple'],\n",
    "        'Sales':[20000,12000,12890,32000,27000,16000,38000,23980,34202,17000,32411,25000]}\n",
    "Sales_Data = pd.DataFrame(data)\n",
    "Sales_Data.to_csv('Sales_Data1',index=False)\n",
    "\n",
    "file_path = input(\"Please enter the complete file name/path here\")\n",
    "Sdata = pd.read_csv(file_path)\n",
    "Sdata.plot.bar(stacked=True,y='Sales',x='Month')"
   ]
  },
  {
   "cell_type": "markdown",
   "id": "e4ad9956-2e3b-474d-8024-76a9132c664f",
   "metadata": {},
   "source": [
    "Q11. You are given a CSV file containing student data that includes the student ID and their test score. Write\n",
    "a Python program that reads the CSV file, calculates the mean, median, and mode of the test scores, and\n",
    "displays the results in a table.\n",
    "The program should do the followingM\n",
    "I Prompt the user to enter the file path of the CSV file containing the student dataR\n",
    "I Read the CSV file into a Pandas DataFrameR\n",
    "I Calculate the mean, median, and mode of the test scores using Pandas toolsR\n",
    "I Display the mean, median, and mode in a table."
   ]
  },
  {
   "cell_type": "code",
   "execution_count": 81,
   "id": "ce46e487-40a3-4c06-a459-acd0843f54a1",
   "metadata": {},
   "outputs": [],
   "source": [
    "#Creating Dataset\n",
    "student_data = {'Student_ID':[1,2,3,4,5,6,7,8,9,10],\n",
    "                'Test_Scores':[85,90,80,75,85,82,78,85,90,85]}\n",
    "student_data = pd.DataFrame(student_data)\n",
    "student_data.to_csv('student_data1',index=False)"
   ]
  },
  {
   "cell_type": "code",
   "execution_count": 134,
   "id": "8397907b-ca5b-4d3a-8bb7-66fcc5c678ed",
   "metadata": {},
   "outputs": [
    {
     "name": "stdin",
     "output_type": "stream",
     "text": [
      "Please enter the complete file name/path here student_data1\n"
     ]
    },
    {
     "data": {
      "text/html": [
       "<div>\n",
       "<style scoped>\n",
       "    .dataframe tbody tr th:only-of-type {\n",
       "        vertical-align: middle;\n",
       "    }\n",
       "\n",
       "    .dataframe tbody tr th {\n",
       "        vertical-align: top;\n",
       "    }\n",
       "\n",
       "    .dataframe thead th {\n",
       "        text-align: right;\n",
       "    }\n",
       "</style>\n",
       "<table border=\"1\" class=\"dataframe\">\n",
       "  <thead>\n",
       "    <tr style=\"text-align: right;\">\n",
       "      <th></th>\n",
       "      <th>Statistic</th>\n",
       "      <th>Values</th>\n",
       "    </tr>\n",
       "  </thead>\n",
       "  <tbody>\n",
       "    <tr>\n",
       "      <th>0</th>\n",
       "      <td>Mean</td>\n",
       "      <td>83.5</td>\n",
       "    </tr>\n",
       "    <tr>\n",
       "      <th>1</th>\n",
       "      <td>Median</td>\n",
       "      <td>85.0</td>\n",
       "    </tr>\n",
       "    <tr>\n",
       "      <th>2</th>\n",
       "      <td>Mode</td>\n",
       "      <td>85.0</td>\n",
       "    </tr>\n",
       "  </tbody>\n",
       "</table>\n",
       "</div>"
      ],
      "text/plain": [
       "  Statistic  Values\n",
       "0      Mean    83.5\n",
       "1    Median    85.0\n",
       "2      Mode    85.0"
      ]
     },
     "execution_count": 134,
     "metadata": {},
     "output_type": "execute_result"
    }
   ],
   "source": [
    "import pandas as pd\n",
    "file_path1 = input('Please enter the complete file name/path here')\n",
    "stu_Data = pd.read_csv(file_path1)\n",
    "mean = stu_Data['Test_Scores'].mean()\n",
    "median = stu_Data['Test_Scores'].median()\n",
    "mode = stu_Data['Test_Scores'].mode()[0]\n",
    "ret = {'Statistic': ['Mean','Median','Mode'],\n",
    "      'Values':[mean,median,mode]}\n",
    "ret1 = pd.DataFrame(ret)\n",
    "ret1\n"
   ]
  },
  {
   "cell_type": "code",
   "execution_count": null,
   "id": "06f36f14-5df3-45b3-986c-9ce127707e1f",
   "metadata": {},
   "outputs": [],
   "source": []
  },
  {
   "cell_type": "code",
   "execution_count": null,
   "id": "4622149e-9479-49c8-bcf6-b526ec712a52",
   "metadata": {},
   "outputs": [],
   "source": []
  },
  {
   "cell_type": "code",
   "execution_count": null,
   "id": "8995bb65-71a0-44b9-af7a-a5e62271a1fb",
   "metadata": {},
   "outputs": [],
   "source": []
  },
  {
   "cell_type": "code",
   "execution_count": null,
   "id": "5800e5fb-d5f9-4d31-b4ba-d496de260a32",
   "metadata": {},
   "outputs": [],
   "source": []
  },
  {
   "cell_type": "code",
   "execution_count": null,
   "id": "ed5fa76a-a088-4797-bb19-f582b85b0023",
   "metadata": {},
   "outputs": [],
   "source": []
  },
  {
   "cell_type": "code",
   "execution_count": null,
   "id": "851167e1-4a57-4298-86be-ae047a675265",
   "metadata": {},
   "outputs": [],
   "source": []
  }
 ],
 "metadata": {
  "kernelspec": {
   "display_name": "Python 3 (ipykernel)",
   "language": "python",
   "name": "python3"
  },
  "language_info": {
   "codemirror_mode": {
    "name": "ipython",
    "version": 3
   },
   "file_extension": ".py",
   "mimetype": "text/x-python",
   "name": "python",
   "nbconvert_exporter": "python",
   "pygments_lexer": "ipython3",
   "version": "3.10.8"
  }
 },
 "nbformat": 4,
 "nbformat_minor": 5
}

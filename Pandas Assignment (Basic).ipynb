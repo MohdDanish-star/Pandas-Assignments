{
 "cells": [
  {
   "cell_type": "code",
   "execution_count": 1,
   "id": "822e41c2-4641-4cae-9ac6-7a0010c1e435",
   "metadata": {},
   "outputs": [],
   "source": [
    "import pandas as pd"
   ]
  },
  {
   "cell_type": "markdown",
   "id": "ae77a5dd-b1ad-47dc-88d6-397485669ed3",
   "metadata": {},
   "source": [
    "Q1. Create a Pandas Series that contains the following data: 4, 8, 15, 16, 23, and 42. Then, print the series."
   ]
  },
  {
   "cell_type": "code",
   "execution_count": 2,
   "id": "2f0a5c81-7523-46be-896f-b15ec6241b7f",
   "metadata": {},
   "outputs": [
    {
     "name": "stdout",
     "output_type": "stream",
     "text": [
      "0     4\n",
      "1     8\n",
      "2    15\n",
      "3    16\n",
      "4    23\n",
      "5    42\n",
      "dtype: int64\n"
     ]
    }
   ],
   "source": [
    "#Answer:- Creating a variable which holds the series elements. Converting and printing the series\n",
    "l = [4, 8, 15, 16, 23, 42 ]\n",
    "l1 = pd.Series(l)\n",
    "print(l1)"
   ]
  },
  {
   "cell_type": "markdown",
   "id": "7866c7f8-8747-4698-934d-18ea78393277",
   "metadata": {},
   "source": [
    "Q2. Create a variable of list type containing 10 elements in it, and apply pandas.Series function on the\n",
    "variable print it."
   ]
  },
  {
   "cell_type": "code",
   "execution_count": 11,
   "id": "8d5e237c-b944-4190-b5a9-d9ee1e47d44a",
   "metadata": {},
   "outputs": [
    {
     "name": "stdout",
     "output_type": "stream",
     "text": [
      "0        1\n",
      "1        4\n",
      "2     Text\n",
      "3     23.4\n",
      "4    False\n",
      "5    Text2\n",
      "6       45\n",
      "7       32\n",
      "8       12\n",
      "9     12.6\n",
      "dtype: object\n"
     ]
    }
   ],
   "source": [
    "#Answer:- Creating list type veriable containing different data types. Converting and printing it in series type.\n",
    "l2 = [1,4,'Text',23.4,False,'Text2',45,32,12,12.6]\n",
    "s1 = pd.Series(l2)\n",
    "print(s1)"
   ]
  },
  {
   "cell_type": "markdown",
   "id": "b5674ddf-4c69-42d2-a532-9cb04d826210",
   "metadata": {},
   "source": [
    "Q3. Create a Pandas DataFrame that contains the following data:"
   ]
  },
  {
   "cell_type": "code",
   "execution_count": 15,
   "id": "7494d752-44ce-4108-816f-34b680c1e78a",
   "metadata": {},
   "outputs": [
    {
     "data": {
      "text/html": [
       "<div>\n",
       "<style scoped>\n",
       "    .dataframe tbody tr th:only-of-type {\n",
       "        vertical-align: middle;\n",
       "    }\n",
       "\n",
       "    .dataframe tbody tr th {\n",
       "        vertical-align: top;\n",
       "    }\n",
       "\n",
       "    .dataframe thead th {\n",
       "        text-align: right;\n",
       "    }\n",
       "</style>\n",
       "<table border=\"1\" class=\"dataframe\">\n",
       "  <thead>\n",
       "    <tr style=\"text-align: right;\">\n",
       "      <th></th>\n",
       "      <th>Name</th>\n",
       "      <th>Age</th>\n",
       "      <th>Gender</th>\n",
       "    </tr>\n",
       "  </thead>\n",
       "  <tbody>\n",
       "    <tr>\n",
       "      <th>0</th>\n",
       "      <td>Alice</td>\n",
       "      <td>25</td>\n",
       "      <td>Female</td>\n",
       "    </tr>\n",
       "    <tr>\n",
       "      <th>1</th>\n",
       "      <td>Bob</td>\n",
       "      <td>30</td>\n",
       "      <td>Male</td>\n",
       "    </tr>\n",
       "    <tr>\n",
       "      <th>2</th>\n",
       "      <td>Claire</td>\n",
       "      <td>27</td>\n",
       "      <td>Female</td>\n",
       "    </tr>\n",
       "  </tbody>\n",
       "</table>\n",
       "</div>"
      ],
      "text/plain": [
       "     Name  Age  Gender\n",
       "0   Alice   25  Female\n",
       "1     Bob   30    Male\n",
       "2  Claire   27  Female"
      ]
     },
     "execution_count": 15,
     "metadata": {},
     "output_type": "execute_result"
    }
   ],
   "source": [
    "data = {'Name':['Alice','Bob','Claire'],\n",
    "        'Age': [25,30,27],\n",
    "        'Gender' : ['Female','Male','Female']}\n",
    "df = pd.DataFrame(data)\n",
    "df"
   ]
  },
  {
   "cell_type": "markdown",
   "id": "07b840ad-d6a8-4647-aa19-73510fc716d3",
   "metadata": {},
   "source": [
    "Q4. What is ‘DataFrame’ in pandas and how is it different from pandas.series? Explain with an example."
   ]
  },
  {
   "cell_type": "markdown",
   "id": "0ce09c73-c9d8-4127-8bda-fb7e2d6ef525",
   "metadata": {},
   "source": [
    "Answer:-\n",
    "    \n",
    "    DataFrame:-\n",
    "          In Pandas, DataFrame is a 2 dimensional tabular structure of data which comprises the combination of rows and columns. Each column can have           elements of same data type and each row is an observation.\n",
    "          \n",
    "    Series:-\n",
    "          In Pandas, Series is a singale dimensioanl structure of the data which can hold elements of any data type within. It could be represt as               single column of a dataframe\n",
    "          \n",
    "The main distinction between the two is this. For a single-column DataFrame, an index can be optional, but a Series has to have an index defined."
   ]
  },
  {
   "cell_type": "markdown",
   "id": "151561d4-ea98-4116-a817-53aa977af171",
   "metadata": {},
   "source": [
    "Q5. What are some common functions you can use to manipulate data in a Pandas DataFrame? Can\n",
    "you give an example of when you might use one of these functions?"
   ]
  },
  {
   "cell_type": "markdown",
   "id": "73f28ea4-850e-4319-aecb-0aa195242d48",
   "metadata": {},
   "source": [
    "Answer:- \n",
    "    \n",
    "    Some common functions to manipulate data in Pandas Dataframe are: map(), Apply(), Applymap()\n",
    " Map() function is typically used with series data type where we desire to manipulate the data. Lets say I want to change the data in the date column        to a specific date format. I can use the Map() function which will map my desired date formate to all the elements of the date column.\n",
    " \n",
    " Apply()\n",
    "       Apply function can be used with both series and dataframe. It also offeres similar functionality as to map function. We can apply different            methods of our requiremet on dataframe or series as we required\n",
    "\n",
    "Applymap()\n",
    "       Applymap is specifically used with dataframes and offers sprt of similar functionality. Although, difference of applymap is that it maps a function on the dataset element-wise"
   ]
  },
  {
   "cell_type": "markdown",
   "id": "c787a4d9-6764-40f7-9e47-e72efc535e6a",
   "metadata": {},
   "source": [
    "Q6. Which of the following is mutable in nature Series, DataFrame, Panel?"
   ]
  },
  {
   "cell_type": "markdown",
   "id": "12be98f2-7637-4bf3-ba6a-132d5cad2289",
   "metadata": {},
   "source": [
    "Answer:-\n",
    "Series:- Series is 1 dimensional data structure which is immutable in nature\n",
    "\n",
    "DataFrame:- DataFrame is 2 dimensional data structure which is mutable in nature\n",
    "\n",
    "Panel:- panle is 3 dimensional data structure which is also mutable in nature"
   ]
  },
  {
   "cell_type": "markdown",
   "id": "01699313-0675-4da4-bac8-d070f9d3aa3f",
   "metadata": {},
   "source": [
    "Q7. Create a DataFrame using multiple Series. Explain with an example."
   ]
  },
  {
   "cell_type": "code",
   "execution_count": 32,
   "id": "03c12d41-da1e-4899-b612-887c628c4308",
   "metadata": {},
   "outputs": [
    {
     "data": {
      "text/html": [
       "<div>\n",
       "<style scoped>\n",
       "    .dataframe tbody tr th:only-of-type {\n",
       "        vertical-align: middle;\n",
       "    }\n",
       "\n",
       "    .dataframe tbody tr th {\n",
       "        vertical-align: top;\n",
       "    }\n",
       "\n",
       "    .dataframe thead th {\n",
       "        text-align: right;\n",
       "    }\n",
       "</style>\n",
       "<table border=\"1\" class=\"dataframe\">\n",
       "  <thead>\n",
       "    <tr style=\"text-align: right;\">\n",
       "      <th></th>\n",
       "      <th>Days</th>\n",
       "      <th>Daily Expense</th>\n",
       "    </tr>\n",
       "  </thead>\n",
       "  <tbody>\n",
       "    <tr>\n",
       "      <th>0</th>\n",
       "      <td>Monday</td>\n",
       "      <td>200</td>\n",
       "    </tr>\n",
       "    <tr>\n",
       "      <th>1</th>\n",
       "      <td>Tuesday</td>\n",
       "      <td>167</td>\n",
       "    </tr>\n",
       "    <tr>\n",
       "      <th>2</th>\n",
       "      <td>Wednesday</td>\n",
       "      <td>300</td>\n",
       "    </tr>\n",
       "    <tr>\n",
       "      <th>3</th>\n",
       "      <td>Thursday</td>\n",
       "      <td>321</td>\n",
       "    </tr>\n",
       "    <tr>\n",
       "      <th>4</th>\n",
       "      <td>Friday</td>\n",
       "      <td>243</td>\n",
       "    </tr>\n",
       "    <tr>\n",
       "      <th>5</th>\n",
       "      <td>Saturday</td>\n",
       "      <td>421</td>\n",
       "    </tr>\n",
       "    <tr>\n",
       "      <th>6</th>\n",
       "      <td>Sunday</td>\n",
       "      <td>356</td>\n",
       "    </tr>\n",
       "  </tbody>\n",
       "</table>\n",
       "</div>"
      ],
      "text/plain": [
       "        Days  Daily Expense\n",
       "0     Monday            200\n",
       "1    Tuesday            167\n",
       "2  Wednesday            300\n",
       "3   Thursday            321\n",
       "4     Friday            243\n",
       "5   Saturday            421\n",
       "6     Sunday            356"
      ]
     },
     "execution_count": 32,
     "metadata": {},
     "output_type": "execute_result"
    }
   ],
   "source": [
    "#Following is a dummy data which represent the daily expenses of the single week\n",
    "Data = {'Days':['Monday','Tuesday',\n",
    "               'Wednesday', 'Thursday', 'Friday',\n",
    "               'Saturday','Sunday'],\n",
    "       'Daily Expense': [200,167,300,321,243,421,356]}\n",
    "df1 = pd.DataFrame(Data)\n",
    "df1"
   ]
  },
  {
   "cell_type": "code",
   "execution_count": 34,
   "id": "05a7f58e-5276-411c-8d81-117ab3541342",
   "metadata": {},
   "outputs": [
    {
     "data": {
      "text/plain": [
       "(7, 2)"
      ]
     },
     "execution_count": 34,
     "metadata": {},
     "output_type": "execute_result"
    }
   ],
   "source": [
    "df1.shape #Checking shape of data set"
   ]
  },
  {
   "cell_type": "code",
   "execution_count": 38,
   "id": "400400b2-dc27-4e93-8a37-cb9fe081feaa",
   "metadata": {},
   "outputs": [
    {
     "name": "stdout",
     "output_type": "stream",
     "text": [
      "<class 'pandas.core.frame.DataFrame'>\n",
      "RangeIndex: 7 entries, 0 to 6\n",
      "Data columns (total 2 columns):\n",
      " #   Column         Non-Null Count  Dtype \n",
      "---  ------         --------------  ----- \n",
      " 0   Days           7 non-null      object\n",
      " 1   Daily Expense  7 non-null      int64 \n",
      "dtypes: int64(1), object(1)\n",
      "memory usage: 240.0+ bytes\n"
     ]
    }
   ],
   "source": [
    "df1.info() # fetching info of the data set"
   ]
  },
  {
   "cell_type": "code",
   "execution_count": 39,
   "id": "5164dc20-137f-45fe-8923-e06684edf9e9",
   "metadata": {},
   "outputs": [
    {
     "data": {
      "text/html": [
       "<div>\n",
       "<style scoped>\n",
       "    .dataframe tbody tr th:only-of-type {\n",
       "        vertical-align: middle;\n",
       "    }\n",
       "\n",
       "    .dataframe tbody tr th {\n",
       "        vertical-align: top;\n",
       "    }\n",
       "\n",
       "    .dataframe thead th {\n",
       "        text-align: right;\n",
       "    }\n",
       "</style>\n",
       "<table border=\"1\" class=\"dataframe\">\n",
       "  <thead>\n",
       "    <tr style=\"text-align: right;\">\n",
       "      <th></th>\n",
       "      <th>Daily Expense</th>\n",
       "    </tr>\n",
       "  </thead>\n",
       "  <tbody>\n",
       "    <tr>\n",
       "      <th>count</th>\n",
       "      <td>7.000000</td>\n",
       "    </tr>\n",
       "    <tr>\n",
       "      <th>mean</th>\n",
       "      <td>286.857143</td>\n",
       "    </tr>\n",
       "    <tr>\n",
       "      <th>std</th>\n",
       "      <td>89.393192</td>\n",
       "    </tr>\n",
       "    <tr>\n",
       "      <th>min</th>\n",
       "      <td>167.000000</td>\n",
       "    </tr>\n",
       "    <tr>\n",
       "      <th>25%</th>\n",
       "      <td>221.500000</td>\n",
       "    </tr>\n",
       "    <tr>\n",
       "      <th>50%</th>\n",
       "      <td>300.000000</td>\n",
       "    </tr>\n",
       "    <tr>\n",
       "      <th>75%</th>\n",
       "      <td>338.500000</td>\n",
       "    </tr>\n",
       "    <tr>\n",
       "      <th>max</th>\n",
       "      <td>421.000000</td>\n",
       "    </tr>\n",
       "  </tbody>\n",
       "</table>\n",
       "</div>"
      ],
      "text/plain": [
       "       Daily Expense\n",
       "count       7.000000\n",
       "mean      286.857143\n",
       "std        89.393192\n",
       "min       167.000000\n",
       "25%       221.500000\n",
       "50%       300.000000\n",
       "75%       338.500000\n",
       "max       421.000000"
      ]
     },
     "execution_count": 39,
     "metadata": {},
     "output_type": "execute_result"
    }
   ],
   "source": [
    "df1.describe()"
   ]
  },
  {
   "cell_type": "markdown",
   "id": "28a93b26-afc4-471c-b245-4fcaae61b657",
   "metadata": {},
   "source": [
    "Conclusion:- \n",
    "Data shows that average daily expense of the individual is 286 which means he spends 286 on daily basis\n",
    "We can also see that his minimum spend is 167 of the week and maximum is 421\n",
    "We can also observe that there is a high standard deviation which means values are more widly spread out from the mean/median in the dataset\n"
   ]
  },
  {
   "cell_type": "code",
   "execution_count": null,
   "id": "3a732de4-bb14-4b19-a526-ca40ab1ab705",
   "metadata": {},
   "outputs": [],
   "source": []
  }
 ],
 "metadata": {
  "kernelspec": {
   "display_name": "Python 3 (ipykernel)",
   "language": "python",
   "name": "python3"
  },
  "language_info": {
   "codemirror_mode": {
    "name": "ipython",
    "version": 3
   },
   "file_extension": ".py",
   "mimetype": "text/x-python",
   "name": "python",
   "nbconvert_exporter": "python",
   "pygments_lexer": "ipython3",
   "version": "3.10.8"
  }
 },
 "nbformat": 4,
 "nbformat_minor": 5
}
